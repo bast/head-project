{
 "cells": [
  {
   "cell_type": "code",
   "execution_count": null,
   "metadata": {},
   "outputs": [],
   "source": [
    "import threading\n",
    "\n",
    "import dash\n",
    "import networkx as nx\n",
    "import numpy as np\n",
    "import plotly.graph_objects as go\n",
    "from dash import Input, Output, State, dcc, html\n",
    "\n",
    "from head_points import find_reference_points\n",
    "from utils import create_mesh, read_mesh"
   ]
  },
  {
   "cell_type": "code",
   "execution_count": null,
   "metadata": {},
   "outputs": [],
   "source": [
    "points, vertices = read_mesh(\"data.txt\")\n",
    "mesh = create_mesh(points, vertices)\n",
    "fig = go.Figure(data=[mesh])\n",
    "fig.update_layout(\n",
    "    autosize=False,\n",
    "    width=800,\n",
    "    height=800,\n",
    ")"
   ]
  },
  {
   "cell_type": "markdown",
   "metadata": {},
   "source": [
    "### find reference points (at axes intersections)"
   ]
  },
  {
   "cell_type": "code",
   "execution_count": null,
   "metadata": {},
   "outputs": [],
   "source": [
    "all_ref_points = find_reference_points(mesh)"
   ]
  },
  {
   "cell_type": "code",
   "execution_count": null,
   "metadata": {},
   "outputs": [],
   "source": [
    "for i in all_ref_points:\n",
    "    fig.add_trace(\n",
    "        go.Scatter3d(\n",
    "            x=[mesh.x[i]],\n",
    "            y=[mesh.y[i]],\n",
    "            z=[mesh.z[i]],\n",
    "            mode=\"markers\",\n",
    "            name=f\"ref point {i}\",\n",
    "            marker=dict(size=3, color=\"red\", opacity=0.8),\n",
    "        )\n",
    "    )"
   ]
  },
  {
   "cell_type": "code",
   "execution_count": null,
   "metadata": {},
   "outputs": [],
   "source": [
    "fig"
   ]
  },
  {
   "cell_type": "markdown",
   "metadata": {},
   "source": [
    "# Dash app"
   ]
  },
  {
   "cell_type": "code",
   "execution_count": null,
   "metadata": {},
   "outputs": [],
   "source": [
    "# global variable and lock for thread safety\n",
    "global_click_data = None\n",
    "lock = threading.Lock()"
   ]
  },
  {
   "cell_type": "code",
   "execution_count": null,
   "metadata": {},
   "outputs": [],
   "source": [
    "app = dash.Dash()\n",
    "\n",
    "\n",
    "app.layout = dash.html.Div(\n",
    "    [\n",
    "        dcc.Graph(id=\"head-plot\", figure=fig),\n",
    "        html.Pre(\n",
    "            id=\"click-data\",\n",
    "            style={\n",
    "                \"backgroundColor\": \"white\",  # Set background color to white\n",
    "                \"padding\": \"10px\",  # Optional: Add some padding\n",
    "                \"border\": \"1px solid black\",  # Optional: Add a border\n",
    "                \"borderRadius\": \"5px\",  # Optional: Round the corners\n",
    "            },\n",
    "        ),\n",
    "    ]\n",
    ")\n",
    "\n",
    "\n",
    "@app.callback(\n",
    "    Output(\"head-plot\", \"figure\"),\n",
    "    Output(\"click-data\", \"children\"),\n",
    "    Input(\"head-plot\", \"clickData\"),\n",
    "    State(\"head-plot\", \"figure\"),\n",
    "    State(\"head-plot\", \"relayoutData\"),  # Capture current view settings\n",
    ")\n",
    "def update_plot(clickData, existing_figure, relayoutData):\n",
    "    global global_click_data\n",
    "    if clickData is not None:\n",
    "        with lock:\n",
    "            coords = clickData[\"points\"][0]\n",
    "            global_click_data = (\n",
    "                coords[\"pointNumber\"],\n",
    "                (coords[\"x\"], coords[\"y\"], coords[\"z\"]),\n",
    "            )\n",
    "\n",
    "            # Replace the 'Clicked Point' in the plot\n",
    "            new_point = go.Scatter3d(\n",
    "                x=[coords[\"x\"]],\n",
    "                y=[coords[\"y\"]],\n",
    "                z=[coords[\"z\"]],\n",
    "                mode=\"markers\",\n",
    "                marker=dict(size=5, color=\"blue\"),\n",
    "                name=\"Clicked Point\",\n",
    "                hoverinfo=\"none\",\n",
    "            )\n",
    "\n",
    "            # Remove the last clicked point if it exists\n",
    "            existing_figure[\"data\"] = [\n",
    "                trace\n",
    "                for trace in existing_figure[\"data\"]\n",
    "                if trace[\"name\"] != \"Clicked Point\"\n",
    "            ]\n",
    "            existing_figure[\"data\"].append(new_point)\n",
    "\n",
    "            # Apply the captured view settings to maintain orientation\n",
    "            if relayoutData and \"scene.camera\" in relayoutData:\n",
    "                existing_figure[\"layout\"][\"scene\"][\"camera\"] = relayoutData[\n",
    "                    \"scene.camera\"\n",
    "                ]\n",
    "\n",
    "            return (\n",
    "                existing_figure,\n",
    "                \"Clicked coordinates: x: {:.2f}, y: {:.2f}, z: {:.2f}\".format(\n",
    "                    coords[\"x\"], coords[\"y\"], coords[\"z\"]\n",
    "                ),\n",
    "            )\n",
    "    return existing_figure, \"Click on a point in the plot\"\n",
    "\n",
    "\n",
    "app.run_server(debug=True, use_reloader=False)  # Turn off reloader if inside Jupyter"
   ]
  },
  {
   "cell_type": "code",
   "execution_count": null,
   "metadata": {},
   "outputs": [],
   "source": [
    "global_click_data"
   ]
  },
  {
   "cell_type": "markdown",
   "metadata": {},
   "source": [
    "## Calculate distance from ref points (Graph and edges only)"
   ]
  },
  {
   "cell_type": "code",
   "execution_count": null,
   "metadata": {},
   "outputs": [],
   "source": [
    "def create_graph_from_mesh(mesh):\n",
    "    G = nx.Graph()\n",
    "\n",
    "    # Add vertices\n",
    "    for x, y, z in zip(mesh.x, mesh.y, mesh.z):\n",
    "        G.add_node((x, y, z))\n",
    "\n",
    "    # Add edges based on faces\n",
    "    for i, j, k in zip(mesh.i, mesh.j, mesh.k):\n",
    "        G.add_edge((mesh.x[i], mesh.y[i], mesh.z[i]), (mesh.x[j], mesh.y[j], mesh.z[j]))\n",
    "        G.add_edge((mesh.x[j], mesh.y[j], mesh.z[j]), (mesh.x[k], mesh.y[k], mesh.z[k]))\n",
    "        G.add_edge((mesh.x[k], mesh.y[k], mesh.z[k]), (mesh.x[i], mesh.y[i], mesh.z[i]))\n",
    "\n",
    "    return G\n",
    "\n",
    "\n",
    "# Create the graph corresponding to the mesh\n",
    "G = create_graph_from_mesh(mesh)"
   ]
  },
  {
   "cell_type": "code",
   "execution_count": null,
   "metadata": {},
   "outputs": [],
   "source": [
    "def Euclidean_dist(G, node1, node2):\n",
    "    nodes = nx.shortest_path(G, source=node1, target=node2)\n",
    "    all_dists = [\n",
    "        np.linalg.norm(np.array(nodes[i]) - np.array(nodes[i + 1]))\n",
    "        for i in range(len(nodes) - 1)\n",
    "    ]\n",
    "\n",
    "    return (sum(all_dists), nodes)"
   ]
  },
  {
   "cell_type": "code",
   "execution_count": null,
   "metadata": {},
   "outputs": [],
   "source": [
    "# coordinates of the index 14538 (top of the head)\n",
    "ref0 = mesh.x[all_ref_points[0]], mesh.y[all_ref_points[0]], mesh.z[all_ref_points[0]]\n",
    "ref0"
   ]
  },
  {
   "cell_type": "code",
   "execution_count": null,
   "metadata": {},
   "outputs": [],
   "source": [
    "app_dist = dash.Dash()\n",
    "\n",
    "\n",
    "app_dist.layout = dash.html.Div([dcc.Graph(id=\"head-plot\", figure=fig)])\n",
    "\n",
    "\n",
    "@app_dist.callback(\n",
    "    Output(\"head-plot\", \"figure\"),\n",
    "    Input(\"head-plot\", \"clickData\"),\n",
    "    State(\"head-plot\", \"figure\"),\n",
    "    State(\"head-plot\", \"relayoutData\"),  # Capture current view settings\n",
    ")\n",
    "def update_figure(clickData, existing_figure, relayoutData):\n",
    "    if clickData is not None:\n",
    "        clicked_point = clickData[\"points\"][0]\n",
    "        coords = (clicked_point[\"x\"], clicked_point[\"y\"], clicked_point[\"z\"])\n",
    "\n",
    "        # Get the vertices to connect\n",
    "        distance, vertices_to_connect = Euclidean_dist(G, coords, ref0)\n",
    "\n",
    "        # Add the distance as an annotation near the last clicked point\n",
    "        annotation = {\n",
    "            \"text\": f\"Distance: {distance:.2f}\",\n",
    "            \"xref\": \"paper\",  # Use 'paper' for positioning relative to the entire plot\n",
    "            \"yref\": \"paper\",\n",
    "            \"x\": 0.05,  # X position in paper coordinates (0 is left, 1 is right)\n",
    "            \"y\": 0.95,  # Y position in paper coordinates (0 is bottom, 1 is top)\n",
    "            \"showarrow\": False,  # No arrow needed\n",
    "            \"font\": {\"size\": 12},\n",
    "            \"bgcolor\": \"white\",  # Background color for better visibility\n",
    "            \"bordercolor\": \"black\",\n",
    "            \"borderwidth\": 1,\n",
    "        }\n",
    "        existing_figure[\"layout\"][\"annotations\"] = [annotation]\n",
    "\n",
    "        # Create a trace for the edges\n",
    "        edge_x = []\n",
    "        edge_y = []\n",
    "        edge_z = []\n",
    "        for i in range(len(vertices_to_connect) - 1):\n",
    "            edge_x.extend(\n",
    "                [vertices_to_connect[i][0], vertices_to_connect[i + 1][0], None]\n",
    "            )\n",
    "            edge_y.extend(\n",
    "                [vertices_to_connect[i][1], vertices_to_connect[i + 1][1], None]\n",
    "            )\n",
    "            edge_z.extend(\n",
    "                [vertices_to_connect[i][2], vertices_to_connect[i + 1][2], None]\n",
    "            )\n",
    "\n",
    "        edge_trace = go.Scatter3d(\n",
    "            x=edge_x,\n",
    "            y=edge_y,\n",
    "            z=edge_z,\n",
    "            mode=\"lines\",\n",
    "            name=\"edge\",\n",
    "            line=dict(color=\"blue\", width=2),\n",
    "        )\n",
    "\n",
    "        clicked_point_trace = go.Scatter3d(\n",
    "            x=[coords[0]],\n",
    "            y=[coords[1]],\n",
    "            z=[coords[2]],\n",
    "            mode=\"markers\",\n",
    "            marker=dict(size=5, color=\"blue\"),\n",
    "            name=\"Clicked Point\",\n",
    "        )\n",
    "\n",
    "        # Remove the last clicked point and edges\n",
    "        existing_figure[\"data\"] = [\n",
    "            trace\n",
    "            for trace in existing_figure[\"data\"]\n",
    "            if trace[\"name\"] not in [\"Clicked Point\", \"edge\"]\n",
    "        ]\n",
    "        existing_figure[\"data\"].append(clicked_point_trace)\n",
    "        existing_figure[\"data\"].append(edge_trace)\n",
    "\n",
    "        # Apply the captured view settings to maintain orientation\n",
    "        if relayoutData and \"scene.camera\" in relayoutData:\n",
    "            existing_figure[\"layout\"][\"scene\"][\"camera\"] = relayoutData[\"scene.camera\"]\n",
    "\n",
    "        return existing_figure\n",
    "    return existing_figure\n",
    "\n",
    "\n",
    "app_dist.run_server(\n",
    "    debug=True, use_reloader=False\n",
    ")  # Turn off reloader if inside Jupyter"
   ]
  }
 ],
 "metadata": {
  "kernelspec": {
   "display_name": "Python 3 (ipykernel)",
   "language": "python",
   "name": "python3"
  },
  "language_info": {
   "codemirror_mode": {
    "name": "ipython",
    "version": 3
   },
   "file_extension": ".py",
   "mimetype": "text/x-python",
   "name": "python",
   "nbconvert_exporter": "python",
   "pygments_lexer": "ipython3",
   "version": "3.9.2"
  }
 },
 "nbformat": 4,
 "nbformat_minor": 4
}
