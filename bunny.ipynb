{
 "cells": [
  {
   "cell_type": "code",
   "execution_count": null,
   "id": "823aa687-fe26-4a14-8959-43c4f34e4d33",
   "metadata": {},
   "outputs": [],
   "source": [
    "import plotly.graph_objects as go\n",
    "import potpourri3d as pp3d"
   ]
  },
  {
   "cell_type": "code",
   "execution_count": null,
   "id": "eb390245-6d37-4153-999c-553e53e888d1",
   "metadata": {},
   "outputs": [],
   "source": [
    "V, F = pp3d.read_mesh(\"shortest-path/bunny_small.ply\")\n",
    "\n",
    "points = []\n",
    "for p in V:\n",
    "    x, y, z = tuple(p.tolist())\n",
    "    points.append((x, y, z))\n",
    "\n",
    "vertices = []\n",
    "for v in F:\n",
    "    i, j, k = tuple(v.tolist())\n",
    "    vertices.append((i, j, k))\n",
    "\n",
    "x, y, z = zip(*points)\n",
    "i, j, k = zip(*vertices)\n",
    "\n",
    "mesh = go.Mesh3d(\n",
    "    x=x,\n",
    "    y=y,\n",
    "    z=z,\n",
    "    color=\"lightpink\",\n",
    "    opacity=0.50,\n",
    "    i=i,\n",
    "    j=j,\n",
    "    k=k,\n",
    "    name=\"y\",\n",
    ")"
   ]
  },
  {
   "cell_type": "code",
   "execution_count": null,
   "id": "c0bb8881-97ee-436f-b5b5-641c686c36dc",
   "metadata": {},
   "outputs": [],
   "source": [
    "path_solver = pp3d.EdgeFlipGeodesicSolver(V, F)\n",
    "\n",
    "path_pts = path_solver.find_geodesic_path(v_start=14, v_end=22)\n",
    "\n",
    "points = []\n",
    "for p in path_pts:\n",
    "    x, y, z = tuple(p.tolist())\n",
    "    points.append((x, y, z))\n",
    "\n",
    "x, y, z = zip(*points)\n",
    "\n",
    "line = go.Scatter3d(\n",
    "    x=x,\n",
    "    y=y,\n",
    "    z=z,\n",
    "    mode=\"lines\",\n",
    "    line=dict(\n",
    "        color=\"blue\",\n",
    "        width=5,\n",
    "    ),\n",
    "    name=\"Extra Lines\",\n",
    ")"
   ]
  },
  {
   "cell_type": "code",
   "execution_count": null,
   "id": "e67be721-58cc-454d-8e15-26f29972bdf8",
   "metadata": {},
   "outputs": [],
   "source": [
    "fig = go.Figure(data=[mesh, line])\n",
    "\n",
    "fig.update_layout(\n",
    "    autosize=False,\n",
    "    width=800,\n",
    "    height=800,\n",
    ")\n",
    "\n",
    "fig.show()"
   ]
  },
  {
   "cell_type": "code",
   "execution_count": null,
   "id": "a020881b-6926-4c38-93e0-80109d298760",
   "metadata": {},
   "outputs": [],
   "source": []
  }
 ],
 "metadata": {
  "kernelspec": {
   "display_name": "Python 3 (ipykernel)",
   "language": "python",
   "name": "python3"
  },
  "language_info": {
   "codemirror_mode": {
    "name": "ipython",
    "version": 3
   },
   "file_extension": ".py",
   "mimetype": "text/x-python",
   "name": "python",
   "nbconvert_exporter": "python",
   "pygments_lexer": "ipython3",
   "version": "3.9.2"
  }
 },
 "nbformat": 4,
 "nbformat_minor": 5
}
