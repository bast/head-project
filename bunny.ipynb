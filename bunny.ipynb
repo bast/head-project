{
 "cells": [
  {
   "cell_type": "code",
   "execution_count": null,
   "id": "823aa687-fe26-4a14-8959-43c4f34e4d33",
   "metadata": {},
   "outputs": [],
   "source": [
    "import numpy as np\n",
    "import plotly.graph_objects as go\n",
    "import potpourri3d as pp3d\n",
    "\n",
    "from geodesic import create_solver, find_path\n",
    "from utils import (\n",
    "    create_line,\n",
    "    create_mesh,\n",
    "    filter_vertices,\n",
    "    read_mesh,\n",
    "    read_ply,\n",
    "    remove_unreferenced_indices,\n",
    ")"
   ]
  },
  {
   "cell_type": "code",
   "execution_count": null,
   "id": "eb390245-6d37-4153-999c-553e53e888d1",
   "metadata": {},
   "outputs": [],
   "source": [
    "points, vertices = read_ply(\"shortest-path/bunny_small.ply\")\n",
    "\n",
    "points, vertices = filter_vertices(points, vertices)\n",
    "points, vertices = remove_unreferenced_indices(points, vertices)\n",
    "\n",
    "mesh = create_mesh(points, vertices)"
   ]
  },
  {
   "cell_type": "code",
   "execution_count": null,
   "id": "c0bb8881-97ee-436f-b5b5-641c686c36dc",
   "metadata": {},
   "outputs": [],
   "source": [
    "solver = create_solver(points, vertices)\n",
    "path_pts = find_path(solver, v_start=200, v_end=300)\n",
    "\n",
    "line = create_line(path_pts)"
   ]
  },
  {
   "cell_type": "code",
   "execution_count": null,
   "id": "e67be721-58cc-454d-8e15-26f29972bdf8",
   "metadata": {},
   "outputs": [],
   "source": [
    "fig = go.Figure(data=[mesh, line])\n",
    "\n",
    "fig.update_layout(\n",
    "    autosize=False,\n",
    "    width=800,\n",
    "    height=800,\n",
    ")\n",
    "\n",
    "fig.show()"
   ]
  },
  {
   "cell_type": "code",
   "execution_count": null,
   "id": "8584f9e9-f469-4fe3-9aa6-f4e68d8490b5",
   "metadata": {},
   "outputs": [],
   "source": [
    "points, vertices = read_mesh(\"data.txt\")\n",
    "mesh = create_mesh(points, vertices)"
   ]
  },
  {
   "cell_type": "code",
   "execution_count": null,
   "id": "4fbc5399-c33b-41e9-a6fa-f0fc3e5aae9b",
   "metadata": {},
   "outputs": [],
   "source": [
    "points, vertices = filter_vertices(points, vertices)\n",
    "points, vertices = remove_unreferenced_indices(points, vertices)\n",
    "\n",
    "solver = create_solver(points, vertices)\n",
    "path_pts = find_path(solver, v_start=1000, v_end=2000)\n",
    "\n",
    "line = create_line(path_pts)"
   ]
  },
  {
   "cell_type": "code",
   "execution_count": null,
   "id": "4db57b43-574b-40d7-98cb-bcd6523234bc",
   "metadata": {},
   "outputs": [],
   "source": [
    "fig = go.Figure(data=[mesh, line])\n",
    "\n",
    "fig.update_layout(\n",
    "    autosize=False,\n",
    "    width=800,\n",
    "    height=800,\n",
    ")\n",
    "\n",
    "fig.show()"
   ]
  }
 ],
 "metadata": {
  "kernelspec": {
   "display_name": "Python 3 (ipykernel)",
   "language": "python",
   "name": "python3"
  },
  "language_info": {
   "codemirror_mode": {
    "name": "ipython",
    "version": 3
   },
   "file_extension": ".py",
   "mimetype": "text/x-python",
   "name": "python",
   "nbconvert_exporter": "python",
   "pygments_lexer": "ipython3",
   "version": "3.9.2"
  }
 },
 "nbformat": 4,
 "nbformat_minor": 5
}
